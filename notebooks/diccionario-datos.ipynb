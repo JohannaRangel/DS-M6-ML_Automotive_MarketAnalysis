{
 "cells": [
  {
   "cell_type": "markdown",
   "id": "16423ae1",
   "metadata": {},
   "source": [
    "## Diccionario de Datos\n",
    "\n",
    "Se recibio dataset con los precios y características de varios de los modelos de vehículos disponibles en nuestro mercado junto con sus precios de venta al público.\n",
    "\n",
    "A continuación, se anexa el diccionario de datos donde se detalla los nombres de las variables y una breve descripción de cada una de ellas para comprender los datos que estaremos analizando.\n"
   ]
  },
  {
   "cell_type": "markdown",
   "id": "661be68f",
   "metadata": {},
   "source": [
    "![Diccionario de Datos](https://github.com/JohannaRangel/ML_MarketAnalysis-AutomotrizChina/raw/main/assets/diccionario-datos.jpg)"
   ]
  }
 ],
 "metadata": {
  "kernelspec": {
   "display_name": "Python 3 (ipykernel)",
   "language": "python",
   "name": "python3"
  },
  "language_info": {
   "codemirror_mode": {
    "name": "ipython",
    "version": 3
   },
   "file_extension": ".py",
   "mimetype": "text/x-python",
   "name": "python",
   "nbconvert_exporter": "python",
   "pygments_lexer": "ipython3",
   "version": "3.10.9"
  }
 },
 "nbformat": 4,
 "nbformat_minor": 5
}
